{
 "cells": [
  {
   "cell_type": "code",
   "execution_count": null,
   "metadata": {},
   "outputs": [],
   "source": [
    "import pandas as pd"
   ]
  },
  {
   "cell_type": "code",
   "execution_count": null,
   "metadata": {},
   "outputs": [],
   "source": [
    "df = pd.read_excel(\"Fast Food Analysis Project Spreadsheet.xlsx\")"
   ]
  },
  {
   "cell_type": "code",
   "execution_count": null,
   "metadata": {},
   "outputs": [],
   "source": [
    "df.head()"
   ]
  },
  {
   "cell_type": "code",
   "execution_count": null,
   "metadata": {},
   "outputs": [],
   "source": [
    "df.drop('Unnamed: 0', axis=1, inplace=True)"
   ]
  },
  {
   "cell_type": "code",
   "execution_count": null,
   "metadata": {},
   "outputs": [],
   "source": [
    "df.head()"
   ]
  },
  {
   "cell_type": "code",
   "execution_count": null,
   "metadata": {},
   "outputs": [],
   "source": [
    "df.shape"
   ]
  },
  {
   "cell_type": "code",
   "execution_count": null,
   "metadata": {},
   "outputs": [],
   "source": [
    "df.info()"
   ]
  },
  {
   "cell_type": "code",
   "execution_count": null,
   "metadata": {},
   "outputs": [],
   "source": [
    "print(df.columns)"
   ]
  },
  {
   "cell_type": "code",
   "execution_count": null,
   "metadata": {},
   "outputs": [],
   "source": [
    "df = df.rename(columns={'Restaurant': 'restaurant_name', 'Item Name': 'item_name', 'Calories ': 'calories', 'Protein (g)': 'protein_g',\n",
    " 'Total Fats (g)': 'fats_g', 'Sodium (mg)': 'sodium_mg', 'Total Sugars (g)': 'sugars_g',\n",
    " 'Cholestrol (mg)': 'cholestrol_mg', 'Price ($)': 'price', 'Carbs (g)': 'carbs_g', \n",
    " 'Fiber (g)': 'fiber_g', 'Item Type': 'item_type'})\n",
    "df.head()"
   ]
  },
  {
   "cell_type": "code",
   "execution_count": null,
   "metadata": {},
   "outputs": [],
   "source": [
    "df.isnull().sum()\n"
   ]
  },
  {
   "cell_type": "code",
   "execution_count": null,
   "metadata": {},
   "outputs": [],
   "source": [
    "df.duplicated().sum()"
   ]
  },
  {
   "cell_type": "code",
   "execution_count": null,
   "metadata": {},
   "outputs": [],
   "source": [
    "## starting tier one analysis: basic averages, ranks of each restaurant and item with the highest calories, protein etc. \n",
    "df.describe()"
   ]
  },
  {
   "cell_type": "code",
   "execution_count": null,
   "metadata": {},
   "outputs": [],
   "source": [
    "## gonna use a loop to find top and bottom 10 of each metric (protein, fiber etc)\n",
    "metrics = ['calories', 'protein_g', 'fats_g', 'sodium_mg', 'cholestrol_mg', 'price', 'carbs_g', 'fiber_g']\n",
    "\n",
    "for metric in metrics:\n",
    "    print(f\"Top 10 {metric.title()}\")\n",
    "    display(df.sort_values(by=metric, ascending=False).head(10))\n",
    "\n",
    "    print(f\"Bottom 10 {metric.title()}\")\n",
    "    display(df.sort_values(by=metric, ascending=False).tail(10))"
   ]
  },
  {
   "cell_type": "code",
   "execution_count": null,
   "metadata": {},
   "outputs": [],
   "source": [
    "#now gonna do a loop for the averages (gonna use medians, chose due to discovery of outliers) based on restaurants\n",
    "for metric in metrics:\n",
    "    print(f\"Restaurants Ranked by Median {metric.title()} (High to Low)\")\n",
    "\n",
    "    ranked = df.groupby('restaurant_name')[metric].median().sort_values(ascending=False)\n",
    "    display(ranked)"
   ]
  },
  {
   "cell_type": "code",
   "execution_count": null,
   "metadata": {},
   "outputs": [],
   "source": [
    "#do the same as above but by item type now\n",
    "for metric in metrics:\n",
    "    print(f\"Item Types Ranked by Median {metric.title()} (High to Low)\")\n",
    "\n",
    "    ranked = df.groupby('item_type')[metric].median().sort_values(ascending=False)\n",
    "    display(ranked)"
   ]
  },
  {
   "cell_type": "code",
   "execution_count": null,
   "metadata": {},
   "outputs": [],
   "source": [
    "## starting tier two analysis\n",
    "## start of the clustering technique \n",
    "df.describe()\n"
   ]
  },
  {
   "cell_type": "code",
   "execution_count": null,
   "metadata": {},
   "outputs": [],
   "source": [
    "## making definitions of clusters + finding how many there are; will in next iteration of project separate by item type! ##\n",
    "cluster_rules = {\n",
    "    'high_protein_low_fat': (df['protein_g'] >= 20) & (df['fats_g'] <= 23),\n",
    "    'low_carb_high_fat': (df['carbs_g'] <= 40) & (df['fats_g'] >= 23),\n",
    "    'high_fiber_low_sodium': (df['fiber_g'] >= 3) & (df['sodium_mg'] <= 1015),\n",
    "    'high_protein_low_price': (df['protein_g'] >= 20) & (df['price'] <= 6.60), \n",
    "    'low_calorie_high_fiber': (df['calories'] <= 440) & (df['fiber_g'] >= 3)\n",
    "}\n",
    "\n",
    "for name, rule in cluster_rules.items():\n",
    "    df[f\"cluster_{name}\"] = rule"
   ]
  },
  {
   "cell_type": "code",
   "execution_count": null,
   "metadata": {},
   "outputs": [],
   "source": [
    "for name in cluster_rules:\n",
    "    print(f\"{name}: {df[f'cluster_{name}'].sum()} items\")"
   ]
  },
  {
   "cell_type": "code",
   "execution_count": null,
   "metadata": {},
   "outputs": [],
   "source": [
    "cluster_name_map = {\n",
    "    'high_protein_low_fat': 'High Protein + Low Fat', \n",
    "    'low_carb_high_fat': 'Low Carb + High Fat', \n",
    "    'high_fiber_low_sodium': 'High Fiber + Low Sodium', \n",
    "    'high_protein_low_price': 'High Protein + Low Price', \n",
    "    'low_calorie_high_fiber': 'Low Calorie + High Fiber'\n",
    "}\n",
    "\n",
    "df['manual_cluster'] = 'None'\n",
    "\n",
    "for name in cluster_rules:\n",
    "    clean_label = cluster_name_map[name]\n",
    "    df.loc[df[f'cluster_{name}'], 'manual_cluster'] = clean_label"
   ]
  },
  {
   "cell_type": "code",
   "execution_count": null,
   "metadata": {},
   "outputs": [],
   "source": [
    "df.head()"
   ]
  },
  {
   "cell_type": "code",
   "execution_count": null,
   "metadata": {},
   "outputs": [],
   "source": [
    "df[df['manual_cluster'] != 'None'].sort_values('manual_cluster')"
   ]
  },
  {
   "cell_type": "code",
   "execution_count": null,
   "metadata": {},
   "outputs": [],
   "source": [
    "## for easier viewing of the items and their clusters ##\n",
    "cluster_cols = [col for col in df.columns if col.startswith('cluster_')]\n",
    "\n",
    "df_display = df.drop(columns=cluster_cols)"
   ]
  },
  {
   "cell_type": "code",
   "execution_count": null,
   "metadata": {},
   "outputs": [],
   "source": [
    "df_display.head()"
   ]
  },
  {
   "cell_type": "code",
   "execution_count": null,
   "metadata": {},
   "outputs": [],
   "source": [
    "df[df['manual_cluster'] == 'High Fiber + Low Sodium']"
   ]
  },
  {
   "cell_type": "code",
   "execution_count": null,
   "metadata": {},
   "outputs": [],
   "source": [
    "#now gonna do a loop to rank items in each cluster by metrics\n",
    "for metric in metrics:\n",
    "    for cluster in df['manual_cluster'].unique():\n",
    "        if cluster != 'None':\n",
    "            cluster_df = df_display[df['manual_cluster'] == cluster]\n",
    "            sorted_df = cluster_df.sort_values(by=metric, ascending=False)\n",
    "\n",
    "            print(f\"Ranked Items in Cluster: {cluster} by {metric.title()}\")\n",
    "            display(sorted_df)"
   ]
  },
  {
   "cell_type": "code",
   "execution_count": null,
   "metadata": {},
   "outputs": [],
   "source": [
    "## from this code, we can see if items are matching for multiple clusters\n",
    "df[[col for col in df.columns if col.startswith('cluster_')]].sum(axis=1).value_counts()"
   ]
  },
  {
   "cell_type": "code",
   "execution_count": null,
   "metadata": {},
   "outputs": [],
   "source": [
    "df_display.head()"
   ]
  }
 ],
 "metadata": {
  "kernelspec": {
   "display_name": "Python 3",
   "language": "python",
   "name": "python3"
  },
  "language_info": {
   "codemirror_mode": {
    "name": "ipython",
    "version": 3
   },
   "file_extension": ".py",
   "mimetype": "text/x-python",
   "name": "python",
   "nbconvert_exporter": "python",
   "pygments_lexer": "ipython3",
   "version": "3.9.6"
  }
 },
 "nbformat": 4,
 "nbformat_minor": 2
}
