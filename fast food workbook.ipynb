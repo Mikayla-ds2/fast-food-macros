{
 "cells": [
  {
   "cell_type": "code",
   "execution_count": null,
   "metadata": {},
   "outputs": [],
   "source": [
    "import pandas as pd"
   ]
  },
  {
   "cell_type": "code",
   "execution_count": null,
   "metadata": {},
   "outputs": [],
   "source": [
    "df = pd.read_excel(\"Fast Food Analysis Project Spreadsheet.xlsx\")"
   ]
  },
  {
   "cell_type": "code",
   "execution_count": null,
   "metadata": {},
   "outputs": [],
   "source": [
    "df.head()"
   ]
  },
  {
   "cell_type": "code",
   "execution_count": null,
   "metadata": {},
   "outputs": [],
   "source": [
    "df.drop('Unnamed: 0', axis=1, inplace=True)"
   ]
  },
  {
   "cell_type": "code",
   "execution_count": null,
   "metadata": {},
   "outputs": [],
   "source": [
    "df.head()"
   ]
  },
  {
   "cell_type": "code",
   "execution_count": null,
   "metadata": {},
   "outputs": [],
   "source": [
    "df.shape"
   ]
  },
  {
   "cell_type": "code",
   "execution_count": null,
   "metadata": {},
   "outputs": [],
   "source": [
    "df.info()"
   ]
  },
  {
   "cell_type": "code",
   "execution_count": null,
   "metadata": {},
   "outputs": [],
   "source": [
    "print(df.columns)"
   ]
  },
  {
   "cell_type": "code",
   "execution_count": null,
   "metadata": {},
   "outputs": [],
   "source": [
    "df = df.rename(columns={'Restaurant': 'restaurant_name', 'Item Name': 'item_name', 'Calories ': 'calories', 'Protein (g)': 'protein',\n",
    " 'Total Fats (g)': 'fats', 'Sodium (mg)': 'sodium', 'Total Sugars (g)': 'sugars',\n",
    " 'Cholesterol (mg)': 'cholesterol', 'Price ($)': 'price', 'Carbs (g)': 'carbs', \n",
    " 'Fiber (g)': 'fiber', 'Item Type': 'item_type'})\n",
    "df.head()"
   ]
  },
  {
   "cell_type": "code",
   "execution_count": null,
   "metadata": {},
   "outputs": [],
   "source": [
    "df.isnull().sum()\n"
   ]
  },
  {
   "cell_type": "code",
   "execution_count": null,
   "metadata": {},
   "outputs": [],
   "source": [
    "df.duplicated().sum()"
   ]
  },
  {
   "cell_type": "code",
   "execution_count": null,
   "metadata": {},
   "outputs": [],
   "source": [
    "## starting tier one analysis: basic averages, ranks of each restaurant and item with the highest calories, protein etc. \n",
    "df.describe()"
   ]
  },
  {
   "cell_type": "code",
   "execution_count": null,
   "metadata": {},
   "outputs": [],
   "source": [
    "## gonna use a loop to find top and bottom 10 of each metric (protein, fiber etc)\n",
    "metrics = ['calories', 'protein', 'fats', 'sodium', 'cholesterol', 'price', 'carbs', 'fiber']\n",
    "\n",
    "for metric in metrics:\n",
    "    print(f\"Top 10 {metric.title()}\")\n",
    "    display(df.sort_values(by=metric, ascending=False).head(10))\n",
    "\n",
    "    print(f\"Bottom 10 {metric.title()}\")\n",
    "    display(df.sort_values(by=metric, ascending=False).tail(10))"
   ]
  },
  {
   "cell_type": "code",
   "execution_count": null,
   "metadata": {},
   "outputs": [],
   "source": [
    "#now gonna do a loop for the averages (gonna use medians, chose due to discovery of outliers) based on restaurants\n",
    "for metric in metrics:\n",
    "    print(f\"Restaurants Ranked by Median {metric.title()} (High to Low)\")\n",
    "\n",
    "    ranked = df.groupby('restaurant_name')[metric].median().sort_values(ascending=False)\n",
    "    display(ranked)"
   ]
  },
  {
   "cell_type": "code",
   "execution_count": null,
   "metadata": {},
   "outputs": [],
   "source": [
    "#do the same as above but by item type now\n",
    "for metric in metrics:\n",
    "    print(f\"Item Types Ranked by Median {metric.title()} (High to Low)\")\n",
    "\n",
    "    ranked = df.groupby('item_type')[metric].median().sort_values(ascending=False)\n",
    "    display(ranked)"
   ]
  },
  {
   "cell_type": "code",
   "execution_count": null,
   "metadata": {},
   "outputs": [],
   "source": [
    "## starting tier two analysis\n",
    "## start of the clustering technique \n",
    "df.describe()\n"
   ]
  },
  {
   "cell_type": "code",
   "execution_count": null,
   "metadata": {},
   "outputs": [],
   "source": [
    "## making definitions of clusters + finding how many there are; will in next iteration of project separate by item type! ##\n",
    "cluster_rules = {\n",
    "    'high_protein_low_fat': (df['protein'] >= 20) & (df['fats'] <= 23),\n",
    "    'low_carb_high_fat': (df['carbs'] <= 40) & (df['fats'] >= 23),\n",
    "    'high_fiber_low_sodium': (df['fiber'] >= 3) & (df['sodium'] <= 1015),\n",
    "    'high_protein_low_price': (df['protein'] >= 20) & (df['price'] <= 6.60), \n",
    "    'low_calorie_high_fiber': (df['calories'] <= 440) & (df['fiber'] >= 3)\n",
    "}\n",
    "\n",
    "for name, rule in cluster_rules.items():\n",
    "    df[f\"cluster_{name}\"] = rule"
   ]
  },
  {
   "cell_type": "code",
   "execution_count": null,
   "metadata": {},
   "outputs": [],
   "source": [
    "for name in cluster_rules:\n",
    "    print(f\"{name}: {df[f'cluster_{name}'].sum()} items\")"
   ]
  },
  {
   "cell_type": "code",
   "execution_count": null,
   "metadata": {},
   "outputs": [],
   "source": [
    "cluster_name_map = {\n",
    "    'high_protein_low_fat': 'High Protein + Low Fat', \n",
    "    'low_carb_high_fat': 'Low Carb + High Fat', \n",
    "    'high_fiber_low_sodium': 'High Fiber + Low Sodium', \n",
    "    'high_protein_low_price': 'High Protein + Low Price', \n",
    "    'low_calorie_high_fiber': 'Low Calorie + High Fiber'\n",
    "}\n",
    "\n",
    "df['manual_cluster'] = 'None'\n",
    "\n",
    "for name in cluster_rules:\n",
    "    clean_label = cluster_name_map[name]\n",
    "    df.loc[df[f'cluster_{name}'], 'manual_cluster'] = clean_label"
   ]
  },
  {
   "cell_type": "code",
   "execution_count": null,
   "metadata": {},
   "outputs": [],
   "source": [
    "df.head()"
   ]
  },
  {
   "cell_type": "code",
   "execution_count": null,
   "metadata": {},
   "outputs": [],
   "source": [
    "df[df['manual_cluster'] != 'None'].sort_values('manual_cluster')"
   ]
  },
  {
   "cell_type": "code",
   "execution_count": null,
   "metadata": {},
   "outputs": [],
   "source": [
    "## for easier viewing of the items and their clusters ##\n",
    "cluster_cols = [col for col in df.columns if col.startswith('cluster_')]\n",
    "\n",
    "df_display = df.drop(columns=cluster_cols)"
   ]
  },
  {
   "cell_type": "code",
   "execution_count": null,
   "metadata": {},
   "outputs": [],
   "source": [
    "df_display.head()"
   ]
  },
  {
   "cell_type": "code",
   "execution_count": null,
   "metadata": {},
   "outputs": [],
   "source": [
    "df[df['manual_cluster'] == 'High Fiber + Low Sodium']"
   ]
  },
  {
   "cell_type": "code",
   "execution_count": null,
   "metadata": {},
   "outputs": [],
   "source": [
    "#now gonna do a loop to rank items in each cluster by metrics\n",
    "for metric in metrics:\n",
    "    for cluster in df['manual_cluster'].unique():\n",
    "        if cluster != 'None':\n",
    "            cluster_df = df_display[df['manual_cluster'] == cluster]\n",
    "            sorted_df = cluster_df.sort_values(by=metric, ascending=False)\n",
    "\n",
    "            print(f\"Ranked Items in Cluster: {cluster} by {metric.title()}\")\n",
    "            display(sorted_df)"
   ]
  },
  {
   "cell_type": "code",
   "execution_count": null,
   "metadata": {},
   "outputs": [],
   "source": [
    "## from this code, we can see if items are matching for multiple clusters\n",
    "df[[col for col in df.columns if col.startswith('cluster_')]].sum(axis=1).value_counts()"
   ]
  },
  {
   "cell_type": "code",
   "execution_count": null,
   "metadata": {},
   "outputs": [],
   "source": [
    "df_display.head()"
   ]
  },
  {
   "cell_type": "code",
   "execution_count": null,
   "metadata": {},
   "outputs": [],
   "source": [
    "metrics"
   ]
  },
  {
   "cell_type": "code",
   "execution_count": null,
   "metadata": {},
   "outputs": [],
   "source": [
    "## beginning the process of fuzzy clustering using membership scores for radar charts\n",
    "high_good_metrics = ['protein', 'fiber']\n",
    "low_good_metrics = ['calories', 'fats', 'sodium', 'cholesterol', 'price', 'carbs']\n",
    "\n",
    "for metric in high_good_metrics:\n",
    "    df[f\"{metric}_score\"] = df[metric].rank(pct=True, ascending=True) * 100\n",
    "for metric in low_good_metrics: \n",
    "    df[f\"{metric}_score\"] = df[metric].rank(pct=True, ascending=False) * 100"
   ]
  },
  {
   "cell_type": "code",
   "execution_count": null,
   "metadata": {},
   "outputs": [],
   "source": [
    "## verifying membership scores \n",
    "df[[col for col in df.columns if '_score' in col]].describe()"
   ]
  },
  {
   "cell_type": "code",
   "execution_count": null,
   "metadata": {},
   "outputs": [],
   "source": [
    "df[['item_name', 'protein', 'protein_score']].sort_values(by='protein_score', ascending=False).head(10)"
   ]
  },
  {
   "cell_type": "code",
   "execution_count": null,
   "metadata": {},
   "outputs": [],
   "source": [
    "df[['item_name', 'sodium', 'sodium_score']].sort_values(by='sodium_score', ascending=False).head(10)"
   ]
  },
  {
   "cell_type": "code",
   "execution_count": null,
   "metadata": {},
   "outputs": [],
   "source": [
    "import matplotlib.pyplot as plt\n",
    "import seaborn as sns"
   ]
  },
  {
   "cell_type": "code",
   "execution_count": null,
   "metadata": {},
   "outputs": [],
   "source": [
    "df[metrics].info()"
   ]
  },
  {
   "cell_type": "code",
   "execution_count": null,
   "metadata": {},
   "outputs": [],
   "source": [
    "corr_matrix = df[metrics].corr()"
   ]
  },
  {
   "cell_type": "code",
   "execution_count": null,
   "metadata": {},
   "outputs": [],
   "source": [
    "plt.figure(figsize=(10,8))\n",
    "sns.heatmap(corr_matrix, annot=True, fmt='.2f', cmap='pink', square=True, linewidths=0.5)\n",
    "plt.title('Correlation Between Metrics')\n",
    "plt.xticks(rotation=45)\n",
    "plt.yticks(rotation=0)\n",
    "plt.tight_layout()\n",
    "plt.show()"
   ]
  },
  {
   "cell_type": "code",
   "execution_count": null,
   "metadata": {},
   "outputs": [],
   "source": [
    "## making the cluster/nutrition goals score\n",
    "df['high_pro_low_fat_score'] = (\n",
    "    df['protein_score'] * 0.6 + df['fats_score'] * 0.4      \n",
    ")\n",
    "\n",
    "df['high_fib_low_sod_score'] = (\n",
    "    df['fiber_score'] * 0.5 + df['sodium_score'] * 0.5\n",
    ")\n",
    "\n",
    "df['high_pro_low_pri_score'] = (\n",
    "    df['protein_score'] * 0.6 + df['price_score'] * 0.4\n",
    ")\n",
    "\n",
    "df['low_car_high_fat_score'] = (\n",
    "    df['carbs_score'] * 0.6 + df['fats_score'] * 0.4\n",
    ")\n",
    "\n",
    "df['low_cal_high_fib_score'] = (\n",
    "    df['calories_score'] * 0.5 + df['fiber_score'] * 0.5\n",
    ")"
   ]
  },
  {
   "cell_type": "code",
   "execution_count": null,
   "metadata": {},
   "outputs": [],
   "source": [
    "df.head()"
   ]
  },
  {
   "cell_type": "code",
   "execution_count": null,
   "metadata": {},
   "outputs": [],
   "source": [
    "metrics"
   ]
  },
  {
   "cell_type": "code",
   "execution_count": null,
   "metadata": {},
   "outputs": [],
   "source": [
    "## about to rank restaurants by the nutrition goals! \n",
    "metric_score_cols = ['calories_score', 'protein_score', 'fats_score', 'sodium_score', 'cholesterol_score',\n",
    "                     'price_score', 'carbs_score', 'fiber_score']\n",
    "goal_score_cols = [col for col in df.columns if col.endswith('_score') and col not in metric_score_cols]\n",
    "\n",
    "for goal in goal_score_cols:\n",
    "    readable_name = goal.replace('_score', '').replace('_', '').title()\n",
    "    print(f\"\\nRestaurants Ranked by Median {readable_name} Score\")\n",
    "    \n",
    "    ranked = df.groupby('restaurant_name')[goal].median().sort_values(ascending=False)\n",
    "    display(ranked)\n"
   ]
  },
  {
   "cell_type": "code",
   "execution_count": null,
   "metadata": {},
   "outputs": [],
   "source": [
    "goal_score_cols"
   ]
  },
  {
   "cell_type": "code",
   "execution_count": null,
   "metadata": {},
   "outputs": [],
   "source": [
    "df[df['high_fib_low_sod_score'] >= 70].shape[0]"
   ]
  },
  {
   "cell_type": "code",
   "execution_count": null,
   "metadata": {},
   "outputs": [],
   "source": [
    "df[df['low_cal_high_fib_score'] >= 70].shape[0]"
   ]
  },
  {
   "cell_type": "code",
   "execution_count": null,
   "metadata": {},
   "outputs": [],
   "source": [
    "df[df['high_pro_low_fat_score'] >= 70].shape[0]"
   ]
  },
  {
   "cell_type": "code",
   "execution_count": null,
   "metadata": {},
   "outputs": [],
   "source": [
    "df[df['high_pro_low_pri_score'] >= 70].shape[0]"
   ]
  },
  {
   "cell_type": "code",
   "execution_count": null,
   "metadata": {},
   "outputs": [],
   "source": [
    "df[df['low_car_high_fat_score'] >= 70].shape[0]"
   ]
  },
  {
   "cell_type": "code",
   "execution_count": 1,
   "metadata": {},
   "outputs": [],
   "source": [
    "import json \n",
    "import uuid"
   ]
  },
  {
   "cell_type": "code",
   "execution_count": 5,
   "metadata": {},
   "outputs": [],
   "source": [
    "with open('fastfood.json', 'r') as f:\n",
    "    data = json.load(f)"
   ]
  },
  {
   "cell_type": "code",
   "execution_count": 3,
   "metadata": {},
   "outputs": [
    {
     "data": {
      "text/plain": [
       "'/Users/mikayla/fast-food-macros-1'"
      ]
     },
     "execution_count": 3,
     "metadata": {},
     "output_type": "execute_result"
    }
   ],
   "source": [
    "import os\n",
    "os.getcwd()"
   ]
  },
  {
   "cell_type": "code",
   "execution_count": 6,
   "metadata": {},
   "outputs": [],
   "source": [
    "for item in data:\n",
    "    item['id'] = str(uuid.uuid4())"
   ]
  },
  {
   "cell_type": "code",
   "execution_count": 9,
   "metadata": {},
   "outputs": [],
   "source": [
    "with open('fastfood_with_ids.json', 'w') as f:\n",
    "    json.dump(data, f, indent=2)"
   ]
  },
  {
   "cell_type": "code",
   "execution_count": 10,
   "metadata": {},
   "outputs": [
    {
     "name": "stdout",
     "output_type": "stream",
     "text": [
      "✅ Unique IDS adds and saved to fastfood_with_ids.json\n"
     ]
    }
   ],
   "source": [
    "print('✅ Unique IDS adds and saved to fastfood_with_ids.json')"
   ]
  },
  {
   "cell_type": "code",
   "execution_count": null,
   "metadata": {},
   "outputs": [],
   "source": []
  }
 ],
 "metadata": {
  "kernelspec": {
   "display_name": "Python 3",
   "language": "python",
   "name": "python3"
  },
  "language_info": {
   "codemirror_mode": {
    "name": "ipython",
    "version": 3
   },
   "file_extension": ".py",
   "mimetype": "text/x-python",
   "name": "python",
   "nbconvert_exporter": "python",
   "pygments_lexer": "ipython3",
   "version": "3.9.6"
  }
 },
 "nbformat": 4,
 "nbformat_minor": 2
}
