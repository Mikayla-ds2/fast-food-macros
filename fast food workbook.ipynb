{
 "cells": [
  {
   "cell_type": "code",
   "execution_count": 1,
   "metadata": {},
   "outputs": [],
   "source": [
    "import pandas as pd"
   ]
  },
  {
   "cell_type": "code",
   "execution_count": 2,
   "metadata": {},
   "outputs": [],
   "source": [
    "df = pd.read_excel(\"Fast Food Analysis Project Spreadsheet.xlsx\")"
   ]
  },
  {
   "cell_type": "code",
   "execution_count": 3,
   "metadata": {},
   "outputs": [
    {
     "data": {
      "text/html": [
       "<div>\n",
       "<style scoped>\n",
       "    .dataframe tbody tr th:only-of-type {\n",
       "        vertical-align: middle;\n",
       "    }\n",
       "\n",
       "    .dataframe tbody tr th {\n",
       "        vertical-align: top;\n",
       "    }\n",
       "\n",
       "    .dataframe thead th {\n",
       "        text-align: right;\n",
       "    }\n",
       "</style>\n",
       "<table border=\"1\" class=\"dataframe\">\n",
       "  <thead>\n",
       "    <tr style=\"text-align: right;\">\n",
       "      <th></th>\n",
       "      <th>Unnamed: 0</th>\n",
       "      <th>Restaurant</th>\n",
       "      <th>Item Name</th>\n",
       "      <th>Calories</th>\n",
       "      <th>Protein (g)</th>\n",
       "      <th>Total Fats (g)</th>\n",
       "      <th>Sodium (mg)</th>\n",
       "      <th>Total Sugars (g)</th>\n",
       "      <th>Cholestrol (mg)</th>\n",
       "      <th>Price ($)</th>\n",
       "      <th>Carbs (g)</th>\n",
       "      <th>Fiber (g)</th>\n",
       "    </tr>\n",
       "  </thead>\n",
       "  <tbody>\n",
       "    <tr>\n",
       "      <th>0</th>\n",
       "      <td>NaN</td>\n",
       "      <td>McDonald's</td>\n",
       "      <td>Bacon, Egg, and Cheese McGriddle</td>\n",
       "      <td>430</td>\n",
       "      <td>17</td>\n",
       "      <td>21</td>\n",
       "      <td>1230</td>\n",
       "      <td>15</td>\n",
       "      <td>215</td>\n",
       "      <td>5.79</td>\n",
       "      <td>44</td>\n",
       "      <td>2</td>\n",
       "    </tr>\n",
       "    <tr>\n",
       "      <th>1</th>\n",
       "      <td>NaN</td>\n",
       "      <td>McDonald's</td>\n",
       "      <td>Sausage, Egg, and Cheese McGriddle</td>\n",
       "      <td>550</td>\n",
       "      <td>19</td>\n",
       "      <td>33</td>\n",
       "      <td>1290</td>\n",
       "      <td>15</td>\n",
       "      <td>235</td>\n",
       "      <td>5.99</td>\n",
       "      <td>44</td>\n",
       "      <td>2</td>\n",
       "    </tr>\n",
       "    <tr>\n",
       "      <th>2</th>\n",
       "      <td>NaN</td>\n",
       "      <td>McDonald's</td>\n",
       "      <td>Quarter Pounder with Cheese</td>\n",
       "      <td>520</td>\n",
       "      <td>30</td>\n",
       "      <td>26</td>\n",
       "      <td>1140</td>\n",
       "      <td>10</td>\n",
       "      <td>95</td>\n",
       "      <td>6.89</td>\n",
       "      <td>42</td>\n",
       "      <td>2</td>\n",
       "    </tr>\n",
       "    <tr>\n",
       "      <th>3</th>\n",
       "      <td>NaN</td>\n",
       "      <td>McDonald's</td>\n",
       "      <td>Small Fry</td>\n",
       "      <td>230</td>\n",
       "      <td>3</td>\n",
       "      <td>11</td>\n",
       "      <td>190</td>\n",
       "      <td>0</td>\n",
       "      <td>0</td>\n",
       "      <td>3.49</td>\n",
       "      <td>31</td>\n",
       "      <td>3</td>\n",
       "    </tr>\n",
       "    <tr>\n",
       "      <th>4</th>\n",
       "      <td>NaN</td>\n",
       "      <td>McDonald's</td>\n",
       "      <td>4 pc. Chicken McNuggets</td>\n",
       "      <td>170</td>\n",
       "      <td>9</td>\n",
       "      <td>10</td>\n",
       "      <td>340</td>\n",
       "      <td>0</td>\n",
       "      <td>25</td>\n",
       "      <td>3.69</td>\n",
       "      <td>10</td>\n",
       "      <td>0</td>\n",
       "    </tr>\n",
       "  </tbody>\n",
       "</table>\n",
       "</div>"
      ],
      "text/plain": [
       "   Unnamed: 0  Restaurant                           Item Name  Calories   \\\n",
       "0         NaN  McDonald's    Bacon, Egg, and Cheese McGriddle        430   \n",
       "1         NaN  McDonald's  Sausage, Egg, and Cheese McGriddle        550   \n",
       "2         NaN  McDonald's         Quarter Pounder with Cheese        520   \n",
       "3         NaN  McDonald's                           Small Fry        230   \n",
       "4         NaN  McDonald's             4 pc. Chicken McNuggets        170   \n",
       "\n",
       "   Protein (g)  Total Fats (g)  Sodium (mg)  Total Sugars (g)  \\\n",
       "0           17              21         1230                15   \n",
       "1           19              33         1290                15   \n",
       "2           30              26         1140                10   \n",
       "3            3              11          190                 0   \n",
       "4            9              10          340                 0   \n",
       "\n",
       "   Cholestrol (mg)  Price ($)  Carbs (g)  Fiber (g)  \n",
       "0              215       5.79         44          2  \n",
       "1              235       5.99         44          2  \n",
       "2               95       6.89         42          2  \n",
       "3                0       3.49         31          3  \n",
       "4               25       3.69         10          0  "
      ]
     },
     "execution_count": 3,
     "metadata": {},
     "output_type": "execute_result"
    }
   ],
   "source": [
    "df.head()"
   ]
  },
  {
   "cell_type": "code",
   "execution_count": 4,
   "metadata": {},
   "outputs": [],
   "source": [
    "df.drop('Unnamed: 0', axis=1, inplace=True)"
   ]
  },
  {
   "cell_type": "code",
   "execution_count": 5,
   "metadata": {},
   "outputs": [
    {
     "data": {
      "text/html": [
       "<div>\n",
       "<style scoped>\n",
       "    .dataframe tbody tr th:only-of-type {\n",
       "        vertical-align: middle;\n",
       "    }\n",
       "\n",
       "    .dataframe tbody tr th {\n",
       "        vertical-align: top;\n",
       "    }\n",
       "\n",
       "    .dataframe thead th {\n",
       "        text-align: right;\n",
       "    }\n",
       "</style>\n",
       "<table border=\"1\" class=\"dataframe\">\n",
       "  <thead>\n",
       "    <tr style=\"text-align: right;\">\n",
       "      <th></th>\n",
       "      <th>Restaurant</th>\n",
       "      <th>Item Name</th>\n",
       "      <th>Calories</th>\n",
       "      <th>Protein (g)</th>\n",
       "      <th>Total Fats (g)</th>\n",
       "      <th>Sodium (mg)</th>\n",
       "      <th>Total Sugars (g)</th>\n",
       "      <th>Cholestrol (mg)</th>\n",
       "      <th>Price ($)</th>\n",
       "      <th>Carbs (g)</th>\n",
       "      <th>Fiber (g)</th>\n",
       "    </tr>\n",
       "  </thead>\n",
       "  <tbody>\n",
       "    <tr>\n",
       "      <th>0</th>\n",
       "      <td>McDonald's</td>\n",
       "      <td>Bacon, Egg, and Cheese McGriddle</td>\n",
       "      <td>430</td>\n",
       "      <td>17</td>\n",
       "      <td>21</td>\n",
       "      <td>1230</td>\n",
       "      <td>15</td>\n",
       "      <td>215</td>\n",
       "      <td>5.79</td>\n",
       "      <td>44</td>\n",
       "      <td>2</td>\n",
       "    </tr>\n",
       "    <tr>\n",
       "      <th>1</th>\n",
       "      <td>McDonald's</td>\n",
       "      <td>Sausage, Egg, and Cheese McGriddle</td>\n",
       "      <td>550</td>\n",
       "      <td>19</td>\n",
       "      <td>33</td>\n",
       "      <td>1290</td>\n",
       "      <td>15</td>\n",
       "      <td>235</td>\n",
       "      <td>5.99</td>\n",
       "      <td>44</td>\n",
       "      <td>2</td>\n",
       "    </tr>\n",
       "    <tr>\n",
       "      <th>2</th>\n",
       "      <td>McDonald's</td>\n",
       "      <td>Quarter Pounder with Cheese</td>\n",
       "      <td>520</td>\n",
       "      <td>30</td>\n",
       "      <td>26</td>\n",
       "      <td>1140</td>\n",
       "      <td>10</td>\n",
       "      <td>95</td>\n",
       "      <td>6.89</td>\n",
       "      <td>42</td>\n",
       "      <td>2</td>\n",
       "    </tr>\n",
       "    <tr>\n",
       "      <th>3</th>\n",
       "      <td>McDonald's</td>\n",
       "      <td>Small Fry</td>\n",
       "      <td>230</td>\n",
       "      <td>3</td>\n",
       "      <td>11</td>\n",
       "      <td>190</td>\n",
       "      <td>0</td>\n",
       "      <td>0</td>\n",
       "      <td>3.49</td>\n",
       "      <td>31</td>\n",
       "      <td>3</td>\n",
       "    </tr>\n",
       "    <tr>\n",
       "      <th>4</th>\n",
       "      <td>McDonald's</td>\n",
       "      <td>4 pc. Chicken McNuggets</td>\n",
       "      <td>170</td>\n",
       "      <td>9</td>\n",
       "      <td>10</td>\n",
       "      <td>340</td>\n",
       "      <td>0</td>\n",
       "      <td>25</td>\n",
       "      <td>3.69</td>\n",
       "      <td>10</td>\n",
       "      <td>0</td>\n",
       "    </tr>\n",
       "  </tbody>\n",
       "</table>\n",
       "</div>"
      ],
      "text/plain": [
       "   Restaurant                           Item Name  Calories   Protein (g)  \\\n",
       "0  McDonald's    Bacon, Egg, and Cheese McGriddle        430           17   \n",
       "1  McDonald's  Sausage, Egg, and Cheese McGriddle        550           19   \n",
       "2  McDonald's         Quarter Pounder with Cheese        520           30   \n",
       "3  McDonald's                           Small Fry        230            3   \n",
       "4  McDonald's             4 pc. Chicken McNuggets        170            9   \n",
       "\n",
       "   Total Fats (g)  Sodium (mg)  Total Sugars (g)  Cholestrol (mg)  Price ($)  \\\n",
       "0              21         1230                15              215       5.79   \n",
       "1              33         1290                15              235       5.99   \n",
       "2              26         1140                10               95       6.89   \n",
       "3              11          190                 0                0       3.49   \n",
       "4              10          340                 0               25       3.69   \n",
       "\n",
       "   Carbs (g)  Fiber (g)  \n",
       "0         44          2  \n",
       "1         44          2  \n",
       "2         42          2  \n",
       "3         31          3  \n",
       "4         10          0  "
      ]
     },
     "execution_count": 5,
     "metadata": {},
     "output_type": "execute_result"
    }
   ],
   "source": [
    "df.head()"
   ]
  },
  {
   "cell_type": "code",
   "execution_count": 6,
   "metadata": {},
   "outputs": [
    {
     "data": {
      "text/plain": [
       "(49, 11)"
      ]
     },
     "execution_count": 6,
     "metadata": {},
     "output_type": "execute_result"
    }
   ],
   "source": [
    "df.shape"
   ]
  },
  {
   "cell_type": "code",
   "execution_count": 7,
   "metadata": {},
   "outputs": [
    {
     "name": "stdout",
     "output_type": "stream",
     "text": [
      "<class 'pandas.core.frame.DataFrame'>\n",
      "RangeIndex: 49 entries, 0 to 48\n",
      "Data columns (total 11 columns):\n",
      " #   Column            Non-Null Count  Dtype  \n",
      "---  ------            --------------  -----  \n",
      " 0   Restaurant        49 non-null     object \n",
      " 1   Item Name         49 non-null     object \n",
      " 2   Calories          49 non-null     int64  \n",
      " 3   Protein (g)       49 non-null     int64  \n",
      " 4   Total Fats (g)    49 non-null     int64  \n",
      " 5   Sodium (mg)       49 non-null     int64  \n",
      " 6   Total Sugars (g)  49 non-null     int64  \n",
      " 7   Cholestrol (mg)   49 non-null     int64  \n",
      " 8   Price ($)         49 non-null     float64\n",
      " 9   Carbs (g)         49 non-null     int64  \n",
      " 10  Fiber (g)         49 non-null     int64  \n",
      "dtypes: float64(1), int64(8), object(2)\n",
      "memory usage: 4.3+ KB\n"
     ]
    }
   ],
   "source": [
    "df.info()"
   ]
  },
  {
   "cell_type": "code",
   "execution_count": 8,
   "metadata": {},
   "outputs": [
    {
     "data": {
      "text/plain": [
       "Restaurant          0\n",
       "Item Name           0\n",
       "Calories            0\n",
       "Protein (g)         0\n",
       "Total Fats (g)      0\n",
       "Sodium (mg)         0\n",
       "Total Sugars (g)    0\n",
       "Cholestrol (mg)     0\n",
       "Price ($)           0\n",
       "Carbs (g)           0\n",
       "Fiber (g)           0\n",
       "dtype: int64"
      ]
     },
     "execution_count": 8,
     "metadata": {},
     "output_type": "execute_result"
    }
   ],
   "source": [
    "df.isnull().sum()\n"
   ]
  },
  {
   "cell_type": "code",
   "execution_count": null,
   "metadata": {},
   "outputs": [],
   "source": [
    "df."
   ]
  }
 ],
 "metadata": {
  "kernelspec": {
   "display_name": "Python 3",
   "language": "python",
   "name": "python3"
  },
  "language_info": {
   "codemirror_mode": {
    "name": "ipython",
    "version": 3
   },
   "file_extension": ".py",
   "mimetype": "text/x-python",
   "name": "python",
   "nbconvert_exporter": "python",
   "pygments_lexer": "ipython3",
   "version": "3.9.6"
  }
 },
 "nbformat": 4,
 "nbformat_minor": 2
}
